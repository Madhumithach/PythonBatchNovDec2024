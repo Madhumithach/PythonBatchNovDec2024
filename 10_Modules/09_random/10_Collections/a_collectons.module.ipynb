{
 "cells": [
  {
   "cell_type": "code",
   "execution_count": 3,
   "metadata": {},
   "outputs": [],
   "source": [
    "import collections"
   ]
  },
  {
   "cell_type": "code",
   "execution_count": 4,
   "metadata": {},
   "outputs": [
    {
     "data": {
      "text/plain": [
       "['ChainMap',\n",
       " 'Counter',\n",
       " 'OrderedDict',\n",
       " 'UserDict',\n",
       " 'UserList',\n",
       " 'UserString',\n",
       " '_Link',\n",
       " '_OrderedDictItemsView',\n",
       " '_OrderedDictKeysView',\n",
       " '_OrderedDictValuesView',\n",
       " '__all__',\n",
       " '__builtins__',\n",
       " '__cached__',\n",
       " '__doc__',\n",
       " '__file__',\n",
       " '__loader__',\n",
       " '__name__',\n",
       " '__package__',\n",
       " '__path__',\n",
       " '__spec__',\n",
       " '_chain',\n",
       " '_collections_abc',\n",
       " '_count_elements',\n",
       " '_deque_iterator',\n",
       " '_eq',\n",
       " '_iskeyword',\n",
       " '_itemgetter',\n",
       " '_proxy',\n",
       " '_recursive_repr',\n",
       " '_repeat',\n",
       " '_starmap',\n",
       " '_sys',\n",
       " '_tuplegetter',\n",
       " 'abc',\n",
       " 'defaultdict',\n",
       " 'deque',\n",
       " 'namedtuple']"
      ]
     },
     "execution_count": 4,
     "metadata": {},
     "output_type": "execute_result"
    }
   ],
   "source": [
    "dir(collections)"
   ]
  },
  {
   "cell_type": "markdown",
   "metadata": {},
   "source": [
    "collections.Counter\n",
    "\n",
    "- will take only iterable objects"
   ]
  },
  {
   "cell_type": "code",
   "execution_count": 5,
   "metadata": {},
   "outputs": [
    {
     "name": "stdout",
     "output_type": "stream",
     "text": [
      "{2: 3, 4: 3, 3: 3, 6: 1}\n"
     ]
    }
   ],
   "source": [
    "counts={}\n",
    "for each in [2,4,3,2,3,6,4,2,3,4]:\n",
    "    counts[each]=counts.get(each,0)+1\n",
    "print(counts)"
   ]
  },
  {
   "cell_type": "code",
   "execution_count": 6,
   "metadata": {},
   "outputs": [
    {
     "data": {
      "text/plain": [
       "Counter({'b': 3, 'a': 2, 'c': 1})"
      ]
     },
     "execution_count": 6,
     "metadata": {},
     "output_type": "execute_result"
    }
   ],
   "source": [
    "collections.Counter([\"a\", \"b\", \"c\", \"a\", \"b\", \"b\"])"
   ]
  },
  {
   "cell_type": "code",
   "execution_count": 7,
   "metadata": {},
   "outputs": [
    {
     "data": {
      "text/plain": [
       "Counter({'b': 3, 'a': 2, 'c': 1})"
      ]
     },
     "execution_count": 7,
     "metadata": {},
     "output_type": "execute_result"
    }
   ],
   "source": [
    "collections.Counter([\"a\", \"b\", \"c\", \"a\", \"b\", \"b\"])"
   ]
  },
  {
   "cell_type": "code",
   "execution_count": 8,
   "metadata": {},
   "outputs": [
    {
     "data": {
      "text/plain": [
       "Counter({'b': 3, 'a': 2, 'c': 1})"
      ]
     },
     "execution_count": 8,
     "metadata": {},
     "output_type": "execute_result"
    }
   ],
   "source": [
    "collections.Counter({\"a\": 2, \"b\": 3, \"c\": 1})"
   ]
  },
  {
   "cell_type": "code",
   "execution_count": 9,
   "metadata": {},
   "outputs": [
    {
     "data": {
      "text/plain": [
       "Counter({'b': 3, 'a': 2, 'c': 1})"
      ]
     },
     "execution_count": 9,
     "metadata": {},
     "output_type": "execute_result"
    }
   ],
   "source": [
    "collections.Counter(a=2, b=3, c=1)"
   ]
  },
  {
   "cell_type": "code",
   "execution_count": 10,
   "metadata": {},
   "outputs": [
    {
     "data": {
      "text/plain": [
       "(('Yasoob', 'Yellow'),\n",
       " ('Ali', 'Blue'),\n",
       " ('Arham', 'Green'),\n",
       " ('Ali', 'Yellow'),\n",
       " ('Yasoob', 'Red'),\n",
       " ('Ahmed', 'Silver'))"
      ]
     },
     "execution_count": 10,
     "metadata": {},
     "output_type": "execute_result"
    }
   ],
   "source": [
    "colours = (\n",
    "    (\"Yasoob\", \"Yellow\"),\n",
    "    (\"Ali\", \"Blue\"),\n",
    "    (\"Arham\", \"Green\"),\n",
    "    (\"Ali\", \"Yellow\"),\n",
    "    (\"Yasoob\", \"Red\"),\n",
    "    (\"Ahmed\", \"Silver\"),\n",
    ")\n",
    "\n",
    "colours"
   ]
  },
  {
   "cell_type": "code",
   "execution_count": 11,
   "metadata": {},
   "outputs": [
    {
     "data": {
      "text/plain": [
       "Counter({('Yasoob', 'Yellow'): 1,\n",
       "         ('Ali', 'Blue'): 1,\n",
       "         ('Arham', 'Green'): 1,\n",
       "         ('Ali', 'Yellow'): 1,\n",
       "         ('Yasoob', 'Red'): 1,\n",
       "         ('Ahmed', 'Silver'): 1})"
      ]
     },
     "execution_count": 11,
     "metadata": {},
     "output_type": "execute_result"
    }
   ],
   "source": [
    "collections.Counter(colours)"
   ]
  },
  {
   "cell_type": "code",
   "execution_count": 12,
   "metadata": {},
   "outputs": [
    {
     "data": {
      "text/plain": [
       "['Yasoob', 'Ali', 'Arham', 'Ali', 'Yasoob', 'Ahmed']"
      ]
     },
     "execution_count": 12,
     "metadata": {},
     "output_type": "execute_result"
    }
   ],
   "source": [
    "[name for name, colour in colours]"
   ]
  },
  {
   "cell_type": "code",
   "execution_count": 13,
   "metadata": {},
   "outputs": [
    {
     "data": {
      "text/plain": [
       "Counter({'Yasoob': 2, 'Ali': 2, 'Arham': 1, 'Ahmed': 1})"
      ]
     },
     "execution_count": 13,
     "metadata": {},
     "output_type": "execute_result"
    }
   ],
   "source": [
    "collections.Counter([name for name, colour in colours])"
   ]
  },
  {
   "cell_type": "code",
   "execution_count": 14,
   "metadata": {},
   "outputs": [
    {
     "data": {
      "text/plain": [
       "Counter({'Yellow': 2, 'Blue': 1, 'Green': 1, 'Red': 1, 'Silver': 1})"
      ]
     },
     "execution_count": 14,
     "metadata": {},
     "output_type": "execute_result"
    }
   ],
   "source": [
    "collections.Counter([colours for name,colours in colours])"
   ]
  },
  {
   "cell_type": "markdown",
   "metadata": {},
   "source": [
    "creating custom counter"
   ]
  },
  {
   "cell_type": "code",
   "execution_count": 15,
   "metadata": {},
   "outputs": [
    {
     "name": "stdout",
     "output_type": "stream",
     "text": [
      "Initial : Counter()\n"
     ]
    }
   ],
   "source": [
    "c = collections.Counter()\n",
    "print(\"Initial :\", c)"
   ]
  },
  {
   "cell_type": "code",
   "execution_count": 16,
   "metadata": {},
   "outputs": [
    {
     "name": "stdout",
     "output_type": "stream",
     "text": [
      "Sequence: Counter({'a': 3, 'b': 2, 'c': 1, 'd': 1})\n"
     ]
    }
   ],
   "source": [
    "c.update(\"abcdaab\")\n",
    "print(\"Sequence:\", c)"
   ]
  },
  {
   "cell_type": "code",
   "execution_count": 17,
   "metadata": {},
   "outputs": [
    {
     "name": "stdout",
     "output_type": "stream",
     "text": [
      "Dict    : Counter({'d': 6, 'a': 4, 'b': 2, 'c': 1})\n"
     ]
    }
   ],
   "source": [
    "c.update({\"a\": 1, \"d\": 5})\n",
    "print(\"Dict    :\", c)"
   ]
  },
  {
   "cell_type": "code",
   "execution_count": 18,
   "metadata": {},
   "outputs": [
    {
     "name": "stdout",
     "output_type": "stream",
     "text": [
      "a : 3\n",
      "b : 2\n",
      "c : 1\n",
      "d : 1\n",
      "e : 0\n"
     ]
    }
   ],
   "source": [
    "c = collections.Counter(\"abcdaab\")\n",
    "\n",
    "for letter in \"abcde\":\n",
    "    print(\"%s : %d\" % (letter, c[letter]))"
   ]
  },
  {
   "cell_type": "code",
   "execution_count": 19,
   "metadata": {},
   "outputs": [
    {
     "name": "stdout",
     "output_type": "stream",
     "text": [
      "Counter({'e': 3, 'x': 1, 't': 1, 'r': 1, 'm': 1, 'l': 1, 'y': 1, 'z': 0})\n"
     ]
    }
   ],
   "source": [
    "c = collections.Counter(\"extremely\")\n",
    "c[\"z\"] = 0\n",
    "\n",
    "print(c)"
   ]
  },
  {
   "cell_type": "code",
   "execution_count": 20,
   "metadata": {},
   "outputs": [
    {
     "data": {
      "text/plain": [
       "dict_keys(['e', 'x', 't', 'r', 'm', 'l', 'y', 'z'])"
      ]
     },
     "execution_count": 20,
     "metadata": {},
     "output_type": "execute_result"
    }
   ],
   "source": [
    "c.keys()"
   ]
  },
  {
   "cell_type": "code",
   "execution_count": 21,
   "metadata": {},
   "outputs": [
    {
     "data": {
      "text/plain": [
       "dict_values([3, 1, 1, 1, 1, 1, 1, 0])"
      ]
     },
     "execution_count": 21,
     "metadata": {},
     "output_type": "execute_result"
    }
   ],
   "source": [
    "c.values()"
   ]
  },
  {
   "cell_type": "code",
   "execution_count": 22,
   "metadata": {},
   "outputs": [
    {
     "data": {
      "text/plain": [
       "dict_items([('e', 3), ('x', 1), ('t', 1), ('r', 1), ('m', 1), ('l', 1), ('y', 1), ('z', 0)])"
      ]
     },
     "execution_count": 22,
     "metadata": {},
     "output_type": "execute_result"
    }
   ],
   "source": [
    "c.items()"
   ]
  },
  {
   "cell_type": "code",
   "execution_count": 23,
   "metadata": {},
   "outputs": [
    {
     "data": {
      "text/plain": [
       "<itertools.chain at 0x7dbc8a964790>"
      ]
     },
     "execution_count": 23,
     "metadata": {},
     "output_type": "execute_result"
    }
   ],
   "source": [
    "c.elements()"
   ]
  },
  {
   "cell_type": "code",
   "execution_count": 24,
   "metadata": {},
   "outputs": [
    {
     "data": {
      "text/plain": [
       "['e', 'e', 'e', 'x', 't', 'r', 'm', 'l', 'y']"
      ]
     },
     "execution_count": 24,
     "metadata": {},
     "output_type": "execute_result"
    }
   ],
   "source": [
    "list(c.elements())"
   ]
  },
  {
   "cell_type": "code",
   "execution_count": 25,
   "metadata": {},
   "outputs": [],
   "source": [
    "c.update(\"daddy\")"
   ]
  },
  {
   "cell_type": "code",
   "execution_count": 26,
   "metadata": {},
   "outputs": [
    {
     "data": {
      "text/plain": [
       "dict_keys(['e', 'x', 't', 'r', 'm', 'l', 'y', 'z', 'd', 'a'])"
      ]
     },
     "execution_count": 26,
     "metadata": {},
     "output_type": "execute_result"
    }
   ],
   "source": [
    "c.keys()"
   ]
  },
  {
   "cell_type": "code",
   "execution_count": 27,
   "metadata": {},
   "outputs": [
    {
     "data": {
      "text/plain": [
       "['e', 'e', 'e', 'x', 't', 'r', 'm', 'l', 'y', 'y', 'd', 'd', 'd', 'a']"
      ]
     },
     "execution_count": 27,
     "metadata": {},
     "output_type": "execute_result"
    }
   ],
   "source": [
    "list(c.elements())"
   ]
  },
  {
   "cell_type": "markdown",
   "metadata": {},
   "source": [
    "Character frequency Analyses"
   ]
  },
  {
   "cell_type": "code",
   "execution_count": 28,
   "metadata": {},
   "outputs": [
    {
     "name": "stdout",
     "output_type": "stream",
     "text": [
      "Initially c:{c}\n",
      "<class 'str'>\n",
      "dict_items([('E', 95), ('p', 183), ('o', 487), ('c', 276), ('h', 192), (' ', 1056), ('C', 74), ('n', 356), ('v', 72), ('e', 809), ('r', 368), ('t', 584), ('\\n', 214), ('&', 5), ('U', 39), ('i', 407), ('x', 42), ('T', 161), ('m', 309), ('s', 367), ('a', 390), ('l', 188), ('u', 141), ('1', 137), ('7', 36), ('3', 37), ('5', 33), ('2', 69), ('6', 40), ('8', 25), ('9', 41), ('-', 85), ('d', 225), ('b', 51), ('.', 110), ('4', 38), ('H', 37), ('[', 16), (']', 16), ('S', 143), (',', 93), ('A', 53), ('g', 75), (':', 123), ('G', 24), ('M', 103), ('y', 93), ('D', 97), ('0', 266), ('P', 63), ('Y', 39), ('z', 11), ('+', 16), ('R', 33), ('\\t', 101), ('I', 40), ('f', 73), ('F', 31), ('/', 77), (\"'\", 88), ('k', 21), ('?', 4), ('w', 50), ('W', 16), ('(', 138), ('O', 36), ('X', 10), (')', 138), ('J', 15), ('Z', 5), ('L', 52), (';', 34), ('_', 36), ('=', 21), ('#', 4), ('N', 24), ('K', 3), ('j', 10), ('*', 10), ('@', 4), ('\"', 56), ('%', 24), ('<', 2), ('>', 3), ('V', 6), ('B', 11), ('Q', 18), ('{', 5), ('^', 1), ('}', 5), ('$', 3), ('!', 1), ('q', 1), ('ñ', 1), ('©', 1)])\n",
      "%s %c (' ', 1056)\n",
      "%s %c ('e', 809)\n",
      "%s %c ('t', 584)\n",
      "%s %c ('o', 487)\n",
      "%s %c ('i', 407)\n"
     ]
    }
   ],
   "source": [
    "import collections\n",
    "c=collections.Counter()\n",
    "print(\"Initially c:{c}\")\n",
    "\n",
    "with open(\"myfile.txt\",\"rt\") as f:\n",
    "    data=f.read()\n",
    "    print(type(data))\n",
    "    c.update(data)\n",
    "print(c.items())\n",
    "for letter,count in c.most_common(5):\n",
    "    print(f\"%s %c\",(letter,count))"
   ]
  },
  {
   "cell_type": "markdown",
   "metadata": {},
   "source": [
    "collections.defaultdict\n",
    "\n",
    "Factory Design Pattern"
   ]
  },
  {
   "cell_type": "code",
   "execution_count": 29,
   "metadata": {},
   "outputs": [
    {
     "name": "stdout",
     "output_type": "stream",
     "text": [
      "(('Yasoob', 'Yellow'),\n",
      " ('Ali', 'Blue'),\n",
      " ('Arham', 'Green'),\n",
      " ('Ali', 'Black'),\n",
      " ('Yasoob', 'Red'),\n",
      " ('Ahmed', 'Silver'))\n"
     ]
    }
   ],
   "source": [
    "colours = (\n",
    "    (\"Yasoob\", \"Yellow\"),\n",
    "    (\"Ali\", \"Blue\"),\n",
    "    (\"Arham\", \"Green\"),\n",
    "    (\"Ali\", \"Black\"),\n",
    "    (\"Yasoob\", \"Red\"),\n",
    "    (\"Ahmed\", \"Silver\"),\n",
    ")\n",
    "\n",
    "from pprint import pprint\n",
    "\n",
    "pprint(colours)"
   ]
  },
  {
   "cell_type": "code",
   "execution_count": 30,
   "metadata": {},
   "outputs": [
    {
     "name": "stdout",
     "output_type": "stream",
     "text": [
      "{'Ahmed': ['Silver'],\n",
      " 'Ali': ['Blue', 'Black'],\n",
      " 'Arham': ['Green'],\n",
      " 'Yasoob': ['Yellow', 'Red']}\n"
     ]
    }
   ],
   "source": [
    "fav_colors = {}\n",
    "for name, color in colours:\n",
    "    # fav_colors[name] = fav_colors.get(name, [])  + [color]\n",
    "    fav_colors.setdefault(name, []).append(color)\n",
    "pprint(fav_colors)"
   ]
  },
  {
   "cell_type": "code",
   "execution_count": 31,
   "metadata": {},
   "outputs": [
    {
     "data": {
      "text/plain": [
       "defaultdict(list, {})"
      ]
     },
     "execution_count": 31,
     "metadata": {},
     "output_type": "execute_result"
    }
   ],
   "source": [
    "fv_colrs = collections.defaultdict(list)\n",
    "\"\"\"So when we dict={} it raises a key error if the key doesnt exist but when we use defaultdict it returns\n",
    "an  empty lsit instead\"\"\"\n",
    "\n",
    "fv_colrs"
   ]
  },
  {
   "cell_type": "code",
   "execution_count": 32,
   "metadata": {},
   "outputs": [
    {
     "name": "stdout",
     "output_type": "stream",
     "text": [
      "defaultdict(<class 'list'>,\n",
      "            {'Ahmed': ['Silver'],\n",
      "             'Ali': ['Blue', 'Black'],\n",
      "             'Arham': ['Green'],\n",
      "             'Yasoob': ['Yellow', 'Red']})\n"
     ]
    }
   ],
   "source": [
    "fv_colrs = collections.defaultdict(list)\n",
    "for name, colour in colours:\n",
    "    fv_colrs[name].append(colour)\n",
    "\n",
    "pprint(fv_colrs)"
   ]
  },
  {
   "cell_type": "code",
   "execution_count": 33,
   "metadata": {},
   "outputs": [
    {
     "name": "stdout",
     "output_type": "stream",
     "text": [
      "defaultdict(<class 'set'>,\n",
      "            {'Ahmed': {'Silver'},\n",
      "             'Ali': {'Blue', 'Black'},\n",
      "             'Arham': {'Green'},\n",
      "             'Yasoob': {'Red', 'Yellow'}})\n"
     ]
    }
   ],
   "source": [
    "fv_colrs = collections.defaultdict(set)\n",
    "for name, colour in colours:\n",
    "    fv_colrs[name].add(colour)\n",
    "\n",
    "pprint(fv_colrs)"
   ]
  },
  {
   "cell_type": "code",
   "execution_count": 34,
   "metadata": {},
   "outputs": [
    {
     "name": "stdout",
     "output_type": "stream",
     "text": [
      "defaultdict(<class 'int'>, {'apple': 1, 'ball': 1, 'cat': 2, 'dog': 1})\n"
     ]
    }
   ],
   "source": [
    "words = [\"apple\", \"ball\", \"cat\", \"dog\", \"cat\"]\n",
    "word_count = collections.defaultdict(int)\n",
    "\n",
    "for word in words:\n",
    "    word_count[word] += 1\n",
    "\n",
    "pprint(word_count)"
   ]
  },
  {
   "cell_type": "code",
   "execution_count": 35,
   "metadata": {},
   "outputs": [
    {
     "name": "stdout",
     "output_type": "stream",
     "text": [
      "defaultdict(<class 'float'>, {'apple': 1.0, 'ball': 1.0, 'cat': 2.0, 'dog': 1.0})\n"
     ]
    }
   ],
   "source": [
    "words = [\"apple\", \"ball\", \"cat\", \"dog\", \"cat\"]\n",
    "word_count = collections.defaultdict(float)\n",
    "\n",
    "for word in words:\n",
    "    word_count[word] += 1\n",
    "\n",
    "print(word_count)"
   ]
  },
  {
   "cell_type": "code",
   "execution_count": 36,
   "metadata": {},
   "outputs": [
    {
     "name": "stdout",
     "output_type": "stream",
     "text": [
      "defaultdict(<class 'int'>, {'b': 3, 'u': 1, 'l': 1, 'e': 1, 's': 1})\n"
     ]
    }
   ],
   "source": [
    "name = \"Bubbles\"\n",
    "mydict = collections.defaultdict(int)\n",
    "for i in name:\n",
    "    mydict[i.lower()] += 1  # case insensitive\n",
    "\n",
    "print(mydict)"
   ]
  },
  {
   "cell_type": "markdown",
   "metadata": {},
   "source": [
    "collections.deque"
   ]
  },
  {
   "cell_type": "code",
   "execution_count": 37,
   "metadata": {},
   "outputs": [
    {
     "data": {
      "text/plain": [
       "deque([1, 2, 3, 3, 4, 2, 4])"
      ]
     },
     "execution_count": 37,
     "metadata": {},
     "output_type": "execute_result"
    }
   ],
   "source": [
    "# initializing deque\n",
    "de = collections.deque([1, 2, 3, 3, 4, 2, 4])\n",
    "\n",
    "de"
   ]
  },
  {
   "cell_type": "code",
   "execution_count": 38,
   "metadata": {},
   "outputs": [
    {
     "name": "stdout",
     "output_type": "stream",
     "text": [
      "The deque after appending at right is :\n",
      " deque([1, 2, 3, 3, 4, 2, 4, 4])\n"
     ]
    }
   ],
   "source": [
    "# inserts 4 at the end of deque\n",
    "de.append(4)\n",
    "\n",
    "print(\"The deque after appending at right is :\\n\", de)"
   ]
  },
  {
   "cell_type": "code",
   "execution_count": 40,
   "metadata": {},
   "outputs": [
    {
     "name": "stdout",
     "output_type": "stream",
     "text": [
      "\n",
      "The deque after appending at left is :\n",
      " deque([6, 1, 2, 3, 3, 4, 2, 4])\n"
     ]
    }
   ],
   "source": [
    "# inserts 6 at the beginning of deque\n",
    "de.appendleft(6)\n",
    "\n",
    "print(\"\\nThe deque after appending at left is :\\n\", de)"
   ]
  },
  {
   "cell_type": "code",
   "execution_count": 41,
   "metadata": {},
   "outputs": [
    {
     "name": "stdout",
     "output_type": "stream",
     "text": [
      "4\n"
     ]
    }
   ],
   "source": [
    "# deletes 4 from the right end of deque\n",
    "print(de.pop())"
   ]
  },
  {
   "cell_type": "code",
   "execution_count": 42,
   "metadata": {},
   "outputs": [
    {
     "name": "stdout",
     "output_type": "stream",
     "text": [
      "\n",
      "The deque after deleting from right is :\n",
      " deque([6, 1, 2, 3, 3, 4, 2])\n"
     ]
    }
   ],
   "source": [
    "print(\"\\nThe deque after deleting from right is :\\n\", de)"
   ]
  },
  {
   "cell_type": "code",
   "execution_count": 43,
   "metadata": {},
   "outputs": [
    {
     "name": "stdout",
     "output_type": "stream",
     "text": [
      "6\n",
      "\n",
      "The deque after deleting from left is:\n",
      " deque([1, 2, 3, 3, 4, 2])\n"
     ]
    }
   ],
   "source": [
    "# deletes 6 from the left end of deque\n",
    "print(de.popleft())\n",
    "\n",
    "# printing modified deque\n",
    "print(\"\\nThe deque after deleting from left is:\\n\", de)"
   ]
  },
  {
   "cell_type": "code",
   "execution_count": 44,
   "metadata": {},
   "outputs": [
    {
     "name": "stdout",
     "output_type": "stream",
     "text": [
      "\n",
      "The count of 3 in deque is: 2\n"
     ]
    }
   ],
   "source": [
    "# using count() to count the occurrences of 3\n",
    "print(\"\\nThe count of 3 in deque is:\", de.count(3))"
   ]
  },
  {
   "cell_type": "code",
   "execution_count": 45,
   "metadata": {},
   "outputs": [
    {
     "name": "stdout",
     "output_type": "stream",
     "text": [
      "None\n"
     ]
    }
   ],
   "source": [
    "# using remove() to remove the first occurrence of 3\n",
    "print(de.remove(3))"
   ]
  },
  {
   "cell_type": "code",
   "execution_count": 46,
   "metadata": {},
   "outputs": [
    {
     "name": "stdout",
     "output_type": "stream",
     "text": [
      "\n",
      "The deque after deleting first occurrence of 3:\n",
      "deque([1, 2, 3, 4, 2])\n"
     ]
    }
   ],
   "source": [
    "print(\"\\nThe deque after deleting first occurrence of 3:\")\n",
    "print(de)"
   ]
  },
  {
   "cell_type": "code",
   "execution_count": 47,
   "metadata": {},
   "outputs": [
    {
     "name": "stdout",
     "output_type": "stream",
     "text": [
      "\n",
      "The deque after extending deque at end is:\n",
      " deque([1, 2, 3, 4, 2, 4, 5, 6])\n"
     ]
    }
   ],
   "source": [
    "# adds 4,5,6 to right end\n",
    "de.extend([4, 5, 6])\n",
    "print(\"\\nThe deque after extending deque at end is:\\n\", de)"
   ]
  },
  {
   "cell_type": "code",
   "execution_count": 48,
   "metadata": {},
   "outputs": [
    {
     "name": "stdout",
     "output_type": "stream",
     "text": [
      "\n",
      "The deque after extending deque at beginning:\n",
      " deque([9, 8, 7, 1, 2, 3, 4, 2, 4, 5, 6])\n"
     ]
    }
   ],
   "source": [
    "# adds 7,8,9 to right end\n",
    "de.extendleft([7, 8, 9])\n",
    "print(\"\\nThe deque after extending deque at beginning:\\n\", de)"
   ]
  },
  {
   "cell_type": "code",
   "execution_count": 49,
   "metadata": {},
   "outputs": [
    {
     "name": "stdout",
     "output_type": "stream",
     "text": [
      "\n",
      "The deque after rotating deque is:\n",
      "deque([1, 2, 3, 4, 2, 4, 5, 6, 9, 8, 7])\n"
     ]
    }
   ],
   "source": [
    "# rotates by 3 to left\n",
    "de.rotate(-3)\n",
    "print(\"\\nThe deque after rotating deque is:\")\n",
    "print(de)"
   ]
  },
  {
   "cell_type": "code",
   "execution_count": 50,
   "metadata": {},
   "outputs": [],
   "source": [
    "# using reverse() to reverse the deque\n",
    "de.reverse()"
   ]
  },
  {
   "cell_type": "code",
   "execution_count": 51,
   "metadata": {},
   "outputs": [
    {
     "name": "stdout",
     "output_type": "stream",
     "text": [
      "deque([7, 8, 9, 6, 5, 4, 2, 4, 3, 2, 1])\n"
     ]
    }
   ],
   "source": [
    "print(de)"
   ]
  },
  {
   "cell_type": "code",
   "execution_count": null,
   "metadata": {},
   "outputs": [],
   "source": []
  }
 ],
 "metadata": {
  "kernelspec": {
   "display_name": "Python 3",
   "language": "python",
   "name": "python3"
  },
  "language_info": {
   "codemirror_mode": {
    "name": "ipython",
    "version": 3
   },
   "file_extension": ".py",
   "mimetype": "text/x-python",
   "name": "python",
   "nbconvert_exporter": "python",
   "pygments_lexer": "ipython3",
   "version": "3.12.1"
  }
 },
 "nbformat": 4,
 "nbformat_minor": 2
}
