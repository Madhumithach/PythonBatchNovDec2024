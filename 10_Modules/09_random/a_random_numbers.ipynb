{
 "cells": [
  {
   "cell_type": "markdown",
   "metadata": {},
   "source": [
    "random module\n",
    "\n",
    "Python random module, uses pseudo-random generator (PRNG)\n",
    "called the Mersenne Twister.\n",
    "\n",
    "NOTE: random module is good enough for many purposes, including simulations,\n",
    "numerical analysis, and games, but it's definitely not good enough for\n",
    "cryptographic use.\n",
    "\n",
    "In Python3, 'secret' module is used for cryptographic purpose."
   ]
  },
  {
   "cell_type": "code",
   "execution_count": 1,
   "metadata": {},
   "outputs": [],
   "source": [
    "import random"
   ]
  },
  {
   "cell_type": "code",
   "execution_count": 2,
   "metadata": {},
   "outputs": [
    {
     "data": {
      "text/plain": [
       "['BPF',\n",
       " 'LOG4',\n",
       " 'NV_MAGICCONST',\n",
       " 'RECIP_BPF',\n",
       " 'Random',\n",
       " 'SG_MAGICCONST',\n",
       " 'SystemRandom',\n",
       " 'TWOPI',\n",
       " '_ONE',\n",
       " '_Sequence',\n",
       " '__all__',\n",
       " '__builtins__',\n",
       " '__cached__',\n",
       " '__doc__',\n",
       " '__file__',\n",
       " '__loader__',\n",
       " '__name__',\n",
       " '__package__',\n",
       " '__spec__',\n",
       " '_accumulate',\n",
       " '_acos',\n",
       " '_bisect',\n",
       " '_ceil',\n",
       " '_cos',\n",
       " '_e',\n",
       " '_exp',\n",
       " '_fabs',\n",
       " '_floor',\n",
       " '_index',\n",
       " '_inst',\n",
       " '_isfinite',\n",
       " '_lgamma',\n",
       " '_log',\n",
       " '_log2',\n",
       " '_os',\n",
       " '_pi',\n",
       " '_random',\n",
       " '_repeat',\n",
       " '_sha512',\n",
       " '_sin',\n",
       " '_sqrt',\n",
       " '_test',\n",
       " '_test_generator',\n",
       " '_urandom',\n",
       " '_warn',\n",
       " 'betavariate',\n",
       " 'binomialvariate',\n",
       " 'choice',\n",
       " 'choices',\n",
       " 'expovariate',\n",
       " 'gammavariate',\n",
       " 'gauss',\n",
       " 'getrandbits',\n",
       " 'getstate',\n",
       " 'lognormvariate',\n",
       " 'normalvariate',\n",
       " 'paretovariate',\n",
       " 'randbytes',\n",
       " 'randint',\n",
       " 'random',\n",
       " 'randrange',\n",
       " 'sample',\n",
       " 'seed',\n",
       " 'setstate',\n",
       " 'shuffle',\n",
       " 'triangular',\n",
       " 'uniform',\n",
       " 'vonmisesvariate',\n",
       " 'weibullvariate']"
      ]
     },
     "execution_count": 2,
     "metadata": {},
     "output_type": "execute_result"
    }
   ],
   "source": [
    "dir(random)\n"
   ]
  },
  {
   "cell_type": "code",
   "execution_count": 3,
   "metadata": {},
   "outputs": [
    {
     "name": "stdout",
     "output_type": "stream",
     "text": [
      "random.random()      : 0.6961116280968879\n"
     ]
    }
   ],
   "source": [
    "# Generate a pseudo-random number between 0 and 1.\n",
    "print(\"random.random()      :\", random.random())"
   ]
  },
  {
   "cell_type": "code",
   "execution_count": 4,
   "metadata": {},
   "outputs": [
    {
     "name": "stdout",
     "output_type": "stream",
     "text": [
      "random.random() * 100: 92.55541364252602\n",
      "random.random() * 100: 37.05603436088486\n"
     ]
    }
   ],
   "source": [
    "# Generate a large pseudo-random number\n",
    "print(\"random.random() * 100:\", random.random() * 100)\n",
    "print(\"random.random() * 100:\", random.random() * 100)"
   ]
  },
  {
   "cell_type": "code",
   "execution_count": 5,
   "metadata": {},
   "outputs": [],
   "source": [
    "# if we set the seed, we guarantee that we will get the same answer\n",
    "random.seed(18485)\n",
    "# NOTE: only supported seed types are: None,int, float, str, bytes, and bytearray."
   ]
  },
  {
   "cell_type": "code",
   "execution_count": 6,
   "metadata": {},
   "outputs": [
    {
     "name": "stdout",
     "output_type": "stream",
     "text": [
      "0.6797936184081204\n",
      "0.9122712611873796\n",
      "0.12926723301605425\n"
     ]
    }
   ],
   "source": [
    "print(random.random())  # should give 0.6797936184081204\n",
    "print(random.random())  # should give 0.9122712611873796\n",
    "print(random.random())  # should give 0.12926723301605425"
   ]
  },
  {
   "cell_type": "code",
   "execution_count": 7,
   "metadata": {},
   "outputs": [
    {
     "name": "stdout",
     "output_type": "stream",
     "text": [
      "[0.7725766895236029, 0.850635131875668, 0.11481894112205038]\n"
     ]
    }
   ],
   "source": [
    "random.seed(\"slartibartfast\")\n",
    "s = [random.random() for i in range(3)]\n",
    "print(s)  # should give [0.7725766895236029, 0.850635131875668, 0.11481894112205038]"
   ]
  },
  {
   "cell_type": "code",
   "execution_count": 8,
   "metadata": {},
   "outputs": [
    {
     "name": "stdout",
     "output_type": "stream",
     "text": [
      "os.urandom(1024) b\"\\x9d^\\xfa]\\xbbn\\x1dw\\xbb\\xcd\\x84vL\\r\\x7f\\xa9\\x0c\\xa3\\x11\\xddWkP?\\x0b*\\x9b\\x00\\xd2N\\x13\\x17\\x98E\\x83\\xf83\\x1b\\xf8\\xf8\\xcf\\xcbU\\xd3\\xb8\\xca\\x99\\x90\\xbb\\x18\\xed\\xbd\\x12\\x04\\xa4\\x10\\xa2\\xc0\\xad\\x01\\xb4\\xfbLv\\x0b\\x1d\\xe1;\\x14\\xa2\\xa7\\xd0Ao\\x9d\\x144\\x80d0\\xe6\\xe6\\xa6\\x1d*\\xba\\xd1\\x86\\x89ZS\\xfe\\x07\\x16}O\\nC\\x7f<\\xe05\\x83\\xea\\xb4^\\x9ct\\x0c&\\xce\\xed\\x8a\\xfd\\xf5\\x00\\xa1\\x8a\\xa8\\xf6\\xe2\\xf6\\x90_\\xe6.h\\xef\\xa7\\xfb-Af\\x0b\\xff\\x18\\xca>\\xaa{\\xb4\\xe4vZ\\xe3\\xe9\\xd6kg\\xeeM\\x81\\x85iF\\xedh\\xd3\\xbe<\\xb2\\xa2\\x9fA8\\xe4X\\xe0\\x16\\x18\\xdcI\\x8d*xG\\xd6\\x8c\\xabr\\x9a\\x04\\x9a\\xea\\x96K\\xfe\\xe7gw'd\\xe3e>\\x15<\\x12\\xbe\\x8a\\xc2}&a\\xfb\\xd8\\xa6,\\x10\\xc8\\t\\x1c\\xee\\x08\\x92\\xbeH\\xaf\\x8f>\\xe7'\\x10/\\x0e\\xe7\\x1d\\xe6F\\x87\\xba\\x13s\\x80\\x80\\x9cp\\xa1\\xbb\\x91PN\\xcdBohJ\\n\\x17\\x92907\\x147c\\xe0\\x9dU#\\xdb J\\xe4W\\x86\\x9d}\\xde\\x0bc\\\\\\xfe\\x10\\xfd\\xdaH7\\x85\\xbd;\\x9a\\xc62\\xe4\\x19\\xee(v\\x01.\\x15V\\\\\\xcf\\x04\\xee ?\\xaf6\\xf1o\\xcb>\\xb9p\\xf4fU\\xd1.\\xc24\\x12;tr\\x00Z\\xab\\xc7l\\x8d[\\xa6s\\xd0_,\\xab\\xe8h\\xea\\x1a\\xc6\\xaf\\xe1U\\x93\\x14\\xa1I\\xffe\\xf7\\x04\\xd7\\x10\\x0eX\\xbbC\\xaf\\xc8\\x08\\x9cU\\x8dm\\t\\xc64UG^1B\\x16\\xa2zVZ\\x92\\xce\\x86=\\xc0;\\x1f\\xd0\\xba\\xdd\\x97.\\x9b\\xc8\\x8bQ\\xbf\\xb81\\x8a\\x10\\xcc\\x06B\\xc1\\x84\\xd8\\xec\\x04\\x07\\xef\\xaa\\x93\\x1ftgk\\xb1Dv\\xd0h\\x94\\xad\\t\\x98\\xd7/Y\\x89(\\xf3\\x9b$\\xf0\\xf5-\\xc5\\x03\\xfet\\x90\\xcfo\\x17\\x90H%\\xba\\x15U\\xcf\\x1d\\xbb\\xda\\xdeA\\xc5\\x18m\\xaf\\x7f\\xeco\\xab^\\xbc\\x16\\xb74\\xd8Zt\\xd1V\\x15|\\x0c\\xe1U26s\\xcbnhr\\xe2\\x9f\\x96\\xe8\\x8bI\\x85\\x1b\\x0bx\\x10\\xc4bSv\\xc6\\x19@\\xb1 4\\x04\\xe2\\x9ci \\xffjl\\xd1\\xda)c\\x96n\\xea\\xb0Hd\\x8a\\x17\\xc4\\xe1\\xd43\\xdb\\xcb\\x99f\\x0fG\\xfe\\xc6\\xcbI\\xf4\\x03\\t\\t\\x0e>:\\xbb\\xab\\xa4\\xcd\\xa9>\\x961\\x1e\\x18\\x88 \\xf6D\\x17\\xadI\\xeaJ\\xc4\\xd5\\xb3\\x85\\xc5\\x0f\\xe8-)-tD\\xd5+\\xd8^\\xe9\\x94\\xd8\\t\\xa8\\xa3s0\\x03Tj\\xe7\\xa8%\\xb9r%\\tBU=uRT\\xab\\x0f\\xbf\\xf6\\xa5c\\xb8y\\xd7S\\x06(2\\xcaLj\\x93ZFS\\xc9\\xea\\x97U\\x1dt\\xd5\\x94\\x0cc\\xd9\\x9a\\x13BL\\xdf\\x9f\\x00\\xc3\\x00s)H<\\x08u\\xc79\\xca\\xec\\x7f\\x8a})\\xfc$\\x18\\x85\\xe9O\\xd3H\\xfd\\xd788F7\\xdb\\x00VS\\xb1\\x1bdY\\xea\\x86\\x00m\\xfd\\x14\\xfd\\xd1\\nB\\xec\\xb6\\xab\\xf6\\xb6\\x98b\\xe9\\xa5\\x1dQ\\xecq\\xe0\\x89\\xe5\\xb0\\xc5p3\\xbe\\xee\\xc4\\x16\\xd0\\r%\\xc9\\x0e\\x9d:\\xc1MJ*`+7\\xe0\\x13\\xd3\\xaf\\xd0\\xad@\\xb6\\xddTS\\xcb[\\x00\\x95J?\\xe1\\xbd\\x1e]\\xe1\\x12\\xe8\\x1e5K\\x12\\x8aA\\xf9\\x8aR\\xdel\\xdd\\\\\\x08\\xd0\\xab\\x87\\xb9\\xc1RH|\\xcc\\xbc\\x8b\\x8d:K`e\\x0cdn\\xe9\\x94\\x05\\xb4\\xfc1c\\x93}\\xf3\\xefW\\x0f\\x99\\xa5\\x9eN$\\xf5\\xef\\x1eM\\xbaFdl\\x02\\xea\\xcd\\xe9\\xbd\\xeaf\\xfa\\x8e\\x0f\\x7fS\\xae\\x12U\\x9b\\x11;V\\x80\\x90E\\x92$\\xe3K\\xaa^\\xbe\\xf8vh\\x13\\xff\\xd2\\xa0UT\\xf2\\x9c\\x90\\xff,\\x88\\xde\\rYyd\\x02\\xd95\\xf2+\\xef\\xea\\x88\\x87Q\\x95\\xc2\\xbc\\x9bC\\x99y\\xe6\\x1f\\xc2gV\\x1f\\x97\\xfblR\\x89\\xe8V\\xb9A\\xc5gU\\xbdn\\xf3\\xe6\\xfe|\\x11\\xb1Oq\\xa1\\xc0\\xb1\\x93[\\x1e\\x14\\xa0\\xc0c|\\x0f\\xbf\\xb9\\x15E=\\xe1g7\\x8a|\\xd7\\x1f\\x9c\\xafw\\x87\\xedc\\xe3\\xe4\\xef!!-\\x85\\x9c\\xc8\\xb5L#ZhN\\xb4\\x0c\\x18|\\x82\\xd3\\xa4 P\\x0c*\\x99\\xb7p\\\\\\xe4\\xea\\x90Z\\xb7\\xff\\xbd\\xbbf(HJsX3U'S\\xdc|!F\\x02\\x00\\xb2\\x9c\\xee\\x85FO\\xe5\\x00\\x89\\xfeD\\xd4\\x18\\xc0\\xfc\\xda\\xd6\\xe3i\\xac\\xec\\xa1\\xba\\xa3Qh\\x8f0\\xa5\\xe9\\x97PHh\\xf6\\x87\\xfb\\x83\"\n"
     ]
    }
   ],
   "source": [
    "import os\n",
    "\n",
    "print(\"os.urandom(1024)\", os.urandom(1024))\n",
    "random.seed(os.urandom(1024))"
   ]
  },
  {
   "cell_type": "code",
   "execution_count": 9,
   "metadata": {},
   "outputs": [
    {
     "name": "stdout",
     "output_type": "stream",
     "text": [
      "0.503730516941367\n",
      "0.12371421917259717\n",
      "0.5382453595200956\n"
     ]
    }
   ],
   "source": [
    "print(random.random())  # should give 0.7819713562511514\n",
    "print(random.random())  # should give 0.4669615948613485\n",
    "print(random.random())  # should give 0.6987920562874854"
   ]
  },
  {
   "cell_type": "code",
   "execution_count": 10,
   "metadata": {},
   "outputs": [
    {
     "name": "stdout",
     "output_type": "stream",
     "text": [
      "4\n"
     ]
    }
   ],
   "source": [
    "# Pick a random number between 1 and 100.\n",
    "print(random.randint(1, 100))  # 75\n",
    "# randint also includes the upper bound value"
   ]
  },
  {
   "cell_type": "code",
   "execution_count": 11,
   "metadata": {},
   "outputs": [
    {
     "name": "stdout",
     "output_type": "stream",
     "text": [
      "8.423463325852962\n"
     ]
    }
   ],
   "source": [
    "# Pick a random floating point number between 1 and 10\n",
    "# random.uniform(a,b) => a <= N <= b\n",
    "print(random.uniform(1, 10))"
   ]
  },
  {
   "cell_type": "code",
   "execution_count": 12,
   "metadata": {},
   "outputs": [
    {
     "name": "stdout",
     "output_type": "stream",
     "text": [
      "80\n",
      "65\n",
      "100\n"
     ]
    }
   ],
   "source": [
    "# Generate a randomly selected element from range(start, stop, step)\n",
    "# random.randrange(start, stop[, step])\n",
    "for i in range(3):\n",
    "    print(random.randrange(0, 101, 5))"
   ]
  },
  {
   "cell_type": "code",
   "execution_count": 13,
   "metadata": {},
   "outputs": [
    {
     "name": "stdout",
     "output_type": "stream",
     "text": [
      "[2]\n",
      "[9, 2, 1, 8]\n"
     ]
    }
   ],
   "source": [
    "items = [1, 2, 3, 4, 5, 6, 7, 8, 9, 10]\n",
    "\n",
    "# Pick a random item from the list\n",
    "x = random.sample(items, 1)\n",
    "print(x)\n",
    "# Pick 4 random items from the list\n",
    "y = random.sample(items, 4)\n",
    "print(y)"
   ]
  },
  {
   "cell_type": "code",
   "execution_count": 14,
   "metadata": {},
   "outputs": [
    {
     "name": "stdout",
     "output_type": "stream",
     "text": [
      "Aplachein\n",
      "['Aplachein', 'Ural', 'Vindhya']\n",
      "Aplachein\n"
     ]
    }
   ],
   "source": [
    "mountains = [\"Andes\", \"Himalayas\", \"Alphes\", \"Aplachein\", \"Ural\", \"Vindhya\"]\n",
    "\n",
    "# Pick a random item from the list\n",
    "x = random.sample(mountains, 1)\n",
    "print(x[0])\n",
    "\n",
    "# Pick 3 random items from the list\n",
    "y = random.sample(mountains, 3)\n",
    "print(y)\n",
    "\n",
    "# Pick a random item from the list\n",
    "x = random.choice(mountains)\n",
    "print(x)"
   ]
  },
  {
   "cell_type": "code",
   "execution_count": 15,
   "metadata": {},
   "outputs": [
    {
     "name": "stdout",
     "output_type": "stream",
     "text": [
      "after shuffle [2, 6, 1, 5, 10, 9, 3, 4, 8, 7]\n"
     ]
    }
   ],
   "source": [
    "# # To shuffle a list of elements\n",
    "# def shuffler(mylist):\n",
    "#     new_list = []\n",
    "#     while len(mylist):\n",
    "#         rand_pos = random.randint(0, len(mylist))\n",
    "#         new_list.append(mylist[rand_pos])\n",
    "#         del mylist[rand_pos]\n",
    "#     return new_list\n",
    "\n",
    "\n",
    "# print(shuffler([\"a\", \"b\", \"c\", \"d\", \"e\"]))\n",
    "\n",
    "numbers = [1, 2, 3, 4, 5, 6, 7, 8, 9, 10]\n",
    "random.shuffle(numbers)\n",
    "print(\"after shuffle\", numbers)"
   ]
  },
  {
   "cell_type": "markdown",
   "metadata": {},
   "source": [
    "tossing_coin"
   ]
  },
  {
   "cell_type": "code",
   "execution_count": 16,
   "metadata": {},
   "outputs": [],
   "source": [
    "outcomes = {\n",
    "    \"heads\": 0,\n",
    "    \"tails\": 0,\n",
    "}\n",
    "sides = list(outcomes.keys())  # ['heads', 'tails']"
   ]
  },
  {
   "cell_type": "code",
   "execution_count": 17,
   "metadata": {},
   "outputs": [
    {
     "data": {
      "text/plain": [
       "'tails'"
      ]
     },
     "execution_count": 17,
     "metadata": {},
     "output_type": "execute_result"
    }
   ],
   "source": [
    "random.choice(sides)"
   ]
  },
  {
   "cell_type": "code",
   "execution_count": 19,
   "metadata": {},
   "outputs": [
    {
     "data": {
      "text/plain": [
       "['heads']"
      ]
     },
     "execution_count": 19,
     "metadata": {},
     "output_type": "execute_result"
    }
   ],
   "source": [
    "random.sample(sides,1)"
   ]
  },
  {
   "cell_type": "code",
   "execution_count": 20,
   "metadata": {},
   "outputs": [
    {
     "name": "stdout",
     "output_type": "stream",
     "text": [
      "In 10000 tosses,\n",
      "\tHeads: 5037\n",
      "\tTails: 4963\n"
     ]
    }
   ],
   "source": [
    "for i in range(10000):\n",
    "    outcome = random.choice(sides)\n",
    "    outcomes[outcome] += 1\n",
    "\n",
    "print(\"In 10000 tosses,\")\n",
    "print(\"\\tHeads:\", outcomes[\"heads\"])\n",
    "print(\"\\tTails:\", outcomes[\"tails\"])"
   ]
  },
  {
   "cell_type": "markdown",
   "metadata": {},
   "source": [
    "random_name_generator"
   ]
  },
  {
   "cell_type": "code",
   "execution_count": 21,
   "metadata": {},
   "outputs": [
    {
     "name": "stdout",
     "output_type": "stream",
     "text": [
      "Avery Brighton\n",
      "Avery Jones\n",
      "Jeremy Smith\n",
      "Drew Brighton\n",
      "Tom Taylor\n"
     ]
    }
   ],
   "source": [
    "import random\n",
    "\n",
    "\n",
    "def random_name_generator(first, second, count):\n",
    "    _names = []\n",
    "    for _ in range(count):\n",
    "        fst_name = random.choice(first)\n",
    "        lst_name = random.choice(second)\n",
    "        name = f\"{fst_name} {lst_name}\"\n",
    "        _names.append(name)\n",
    "    return _names\n",
    "\n",
    "\n",
    "def random_name_generator(first, second, count):\n",
    "    _names = set()\n",
    "    while len(_names) < count:\n",
    "        fst_name = random.choice(first)\n",
    "        lst_name = random.choice(second)\n",
    "        name = f\"{fst_name} {lst_name}\"\n",
    "        _names.add(name)\n",
    "    return _names\n",
    "\n",
    "\n",
    "first_names = [\"Drew\", \"Mike\", \"Landon\", \"Jeremy\", \"Tyler\", \"Tom\", \"Avery\"]\n",
    "last_names = [\"Smith\", \"Jones\", \"Brighton\", \"Taylor\"]\n",
    "names = random_name_generator(first_names, last_names, 5)\n",
    "print(\"\\n\".join(names))\n",
    "\n",
    "\n",
    "# Assignment:\n",
    "# In runtime, take the gender name as input, and generate random name.\n",
    "# HINT: Take a dataset of female first names, and another with male first names\n",
    "# one dataset with last names"
   ]
  },
  {
   "cell_type": "code",
   "execution_count": 8,
   "metadata": {},
   "outputs": [
    {
     "name": "stdout",
     "output_type": "stream",
     "text": [
      "Sita yasani\n"
     ]
    }
   ],
   "source": [
    "# Assignment:\n",
    "# In runtime, take the gender name as input, and generate random name.\n",
    "# HINT: Take a dataset of female first names, and another with male first names\n",
    "# one dataset with last names\n",
    "import random\n",
    "def gender_name_generator(gender):\n",
    "    if (gender==\"female\"):\n",
    "        first_name=random.choice(f_firstnames)\n",
    "        last_name=random.choice(f_lastnames)\n",
    "        name=f\"{first_name} {last_name}\"\n",
    "        return name\n",
    "    elif(gender==\"male\"):\n",
    "        first_name=random.choice(m_firstnames)\n",
    "        last_name=random.choice(m_lastnames)\n",
    "        name=f\"{first_name} {last_name}\"\n",
    "        return name\n",
    "\n",
    "f_firstnames=[\"Sita\",\"Madhu\",\"Niha\",\"Dolly\"]\n",
    "f_lastnames=[\"chalamala\",\"ch\",\"yasani\",\"y\"]\n",
    "m_firstnames=[\"pavan\",\"ram\",\"kumar\"]\n",
    "m_lastnames=[\"b\",\"battula\",\"Maddi\"]\n",
    "gender=input(\"enter gender\").lower()\n",
    "Person_name=gender_name_generator(gender)\n",
    "print(Person_name)"
   ]
  }
 ],
 "metadata": {
  "kernelspec": {
   "display_name": "Python 3",
   "language": "python",
   "name": "python3"
  },
  "language_info": {
   "codemirror_mode": {
    "name": "ipython",
    "version": 3
   },
   "file_extension": ".py",
   "mimetype": "text/x-python",
   "name": "python",
   "nbconvert_exporter": "python",
   "pygments_lexer": "ipython3",
   "version": "3.12.1"
  }
 },
 "nbformat": 4,
 "nbformat_minor": 2
}
