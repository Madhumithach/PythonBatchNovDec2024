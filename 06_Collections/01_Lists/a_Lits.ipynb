{
 "cells": [
  {
   "cell_type": "markdown",
   "metadata": {},
   "source": [
    "## Lists"
   ]
  },
  {
   "cell_type": "markdown",
   "metadata": {},
   "source": [
    "List is representing using [].\n",
    "    Lists can store any no.of different data types together.\n",
    "    List can be classified as single-dimensional and multi-dimensional.\n",
    "    List is a mutable object, which means elements in list can be changed.\n",
    "    It can store asymmetric data types"
   ]
  },
  {
   "cell_type": "code",
   "execution_count": 1,
   "metadata": {},
   "outputs": [
    {
     "name": "stdout",
     "output_type": "stream",
     "text": [
      "type(empty_list) empty_list=[]\n",
      "len(empty_list)\n"
     ]
    }
   ],
   "source": [
    "empty_list=[]\n",
    "print(f\"type(empty_list) {empty_list=}\")\n",
    "print(f\"len(empty_list)\")"
   ]
  }
 ],
 "metadata": {
  "kernelspec": {
   "display_name": "Python 3",
   "language": "python",
   "name": "python3"
  },
  "language_info": {
   "codemirror_mode": {
    "name": "ipython",
    "version": 3
   },
   "file_extension": ".py",
   "mimetype": "text/x-python",
   "name": "python",
   "nbconvert_exporter": "python",
   "pygments_lexer": "ipython3",
   "version": "3.12.1"
  }
 },
 "nbformat": 4,
 "nbformat_minor": 2
}
