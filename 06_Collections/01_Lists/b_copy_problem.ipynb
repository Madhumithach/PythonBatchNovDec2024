{
 "cells": [
  {
   "cell_type": "markdown",
   "metadata": {},
   "source": [
    "## assignment vs Shallow copy vs deep"
   ]
  },
  {
   "cell_type": "code",
   "execution_count": 10,
   "metadata": {},
   "outputs": [
    {
     "name": "stdout",
     "output_type": "stream",
     "text": [
      "num1   <class 'int'> 97645682063080\n",
      "num2   <class 'int'> 97645682063080\n",
      "num2  <class 'int'> 97645682063080\n",
      "num3  <class 'int'> 124007593131472\n",
      "num4  <class 'int'> 124007593129584\n"
     ]
    }
   ],
   "source": [
    "#immutable object\n",
    "num1=123\n",
    "print (\"num1  \",type(num1),id(num1))\n",
    "num2=123\n",
    "print (\"num2  \",type(num2),id(num2))\n",
    "num2=num1\n",
    "print(\"num2 \",type(num2),id(num2))\n",
    "num3=300\n",
    "print(\"num3 \",type(num3),id(num3))\n",
    "num4=300\n",
    "print(\"num4 \",type(num4),id(num4))"
   ]
  },
  {
   "cell_type": "code",
   "execution_count": 11,
   "metadata": {},
   "outputs": [
    {
     "name": "stdout",
     "output_type": "stream",
     "text": [
      "num1   <class 'int'> 97645682063080\n",
      "num2  <class 'int'> 124007593130160\n"
     ]
    }
   ],
   "source": [
    "num2=999\n",
    "print (\"num1  \",type(num1),id(num1))\n",
    "print(\"num2 \",type(num2),id(num2))"
   ]
  },
  {
   "cell_type": "code",
   "execution_count": 1,
   "metadata": {},
   "outputs": [
    {
     "name": "stdout",
     "output_type": "stream",
     "text": [
      "133100036374016 par_list       = [11, 111, 1111]\n",
      "133100036374016 hard_copy_list = [11, 111, 1111]\n"
     ]
    }
   ],
   "source": [
    "#  Mutable object\n",
    "par_list = [11, 111, 1111]\n",
    "print(f\"{id(par_list)} {par_list       = }\")\n",
    "hard_copy_list = par_list   # assignment operation\n",
    "print(f\"{id(hard_copy_list)} {hard_copy_list = }\")"
   ]
  },
  {
   "cell_type": "code",
   "execution_count": null,
   "metadata": {},
   "outputs": [],
   "source": []
  }
 ],
 "metadata": {
  "kernelspec": {
   "display_name": "Python 3",
   "language": "python",
   "name": "python3"
  },
  "language_info": {
   "codemirror_mode": {
    "name": "ipython",
    "version": 3
   },
   "file_extension": ".py",
   "mimetype": "text/x-python",
   "name": "python",
   "nbconvert_exporter": "python",
   "pygments_lexer": "ipython3",
   "version": "3.12.1"
  }
 },
 "nbformat": 4,
 "nbformat_minor": 2
}
