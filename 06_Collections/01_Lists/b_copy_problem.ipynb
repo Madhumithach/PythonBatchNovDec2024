{
 "cells": [
  {
   "cell_type": "markdown",
   "metadata": {},
   "source": [
    "## assignment vs Shallow copy vs deep"
   ]
  },
  {
   "cell_type": "code",
   "execution_count": 10,
   "metadata": {},
   "outputs": [
    {
     "name": "stdout",
     "output_type": "stream",
     "text": [
      "num1   <class 'int'> 97645682063080\n",
      "num2   <class 'int'> 97645682063080\n",
      "num2  <class 'int'> 97645682063080\n",
      "num3  <class 'int'> 124007593131472\n",
      "num4  <class 'int'> 124007593129584\n"
     ]
    }
   ],
   "source": [
    "#immutable object\n",
    "num1=123\n",
    "print (\"num1  \",type(num1),id(num1))\n",
    "num2=123\n",
    "print (\"num2  \",type(num2),id(num2))\n",
    "num2=num1\n",
    "print(\"num2 \",type(num2),id(num2))\n",
    "num3=300\n",
    "print(\"num3 \",type(num3),id(num3))\n",
    "num4=300\n",
    "print(\"num4 \",type(num4),id(num4))"
   ]
  },
  {
   "cell_type": "code",
   "execution_count": 5,
   "metadata": {},
   "outputs": [
    {
     "ename": "NameError",
     "evalue": "name 'num1' is not defined",
     "output_type": "error",
     "traceback": [
      "\u001b[0;31m---------------------------------------------------------------------------\u001b[0m",
      "\u001b[0;31mNameError\u001b[0m                                 Traceback (most recent call last)",
      "Cell \u001b[0;32mIn[5], line 2\u001b[0m\n\u001b[1;32m      1\u001b[0m num2\u001b[38;5;241m=\u001b[39m\u001b[38;5;241m999\u001b[39m\n\u001b[0;32m----> 2\u001b[0m \u001b[38;5;28mprint\u001b[39m (\u001b[38;5;124m\"\u001b[39m\u001b[38;5;124mnum1  \u001b[39m\u001b[38;5;124m\"\u001b[39m,\u001b[38;5;28mtype\u001b[39m(\u001b[43mnum1\u001b[49m),\u001b[38;5;28mid\u001b[39m(num1))\n\u001b[1;32m      3\u001b[0m \u001b[38;5;28mprint\u001b[39m(\u001b[38;5;124m\"\u001b[39m\u001b[38;5;124mnum2 \u001b[39m\u001b[38;5;124m\"\u001b[39m,\u001b[38;5;28mtype\u001b[39m(num2),\u001b[38;5;28mid\u001b[39m(num2))\n",
      "\u001b[0;31mNameError\u001b[0m: name 'num1' is not defined"
     ]
    }
   ],
   "source": [
    "num2=999\n",
    "print (\"num1  \",type(num1),id(num1))\n",
    "print(\"num2 \",type(num2),id(num2))"
   ]
  },
  {
   "cell_type": "code",
   "execution_count": 2,
   "metadata": {},
   "outputs": [
    {
     "name": "stdout",
     "output_type": "stream",
     "text": [
      "134556721709760 par_list       = [11, 111, 1111]\n",
      "134556721709760 hard_copy_list = [11, 111, 1111]\n"
     ]
    }
   ],
   "source": [
    "#  Mutable object\n",
    "par_list = [11, 111, 1111]\n",
    "print(f\"{id(par_list)} {par_list       = }\")\n",
    "hard_copy_list = par_list   # assignment operation\n",
    "print(f\"{id(hard_copy_list)} {hard_copy_list = }\")"
   ]
  },
  {
   "cell_type": "code",
   "execution_count": 6,
   "metadata": {},
   "outputs": [
    {
     "name": "stdout",
     "output_type": "stream",
     "text": [
      "parlist[2] =  3333\n",
      "After modifying parlist[2]=  3333\n",
      "134556721709760 [11, 111, 3333]\n"
     ]
    }
   ],
   "source": [
    "print(\"parlist[2] = \",par_list[2])\n",
    "par_list[2]=3333\n",
    "print(\"After modifying parlist[2]= \",par_list[2])\n",
    "print(f\"{id(par_list)} {par_list}\")"
   ]
  },
  {
   "cell_type": "code",
   "execution_count": 7,
   "metadata": {},
   "outputs": [
    {
     "name": "stdout",
     "output_type": "stream",
     "text": [
      "134556721709760 hard_copy_list = [11, 111, 3333]\n"
     ]
    }
   ],
   "source": [
    "print(f\"{id(hard_copy_list)} {hard_copy_list = }\")"
   ]
  },
  {
   "cell_type": "code",
   "execution_count": 8,
   "metadata": {},
   "outputs": [
    {
     "data": {
      "text/plain": [
       "['Error',\n",
       " '__all__',\n",
       " '__builtins__',\n",
       " '__cached__',\n",
       " '__doc__',\n",
       " '__file__',\n",
       " '__loader__',\n",
       " '__name__',\n",
       " '__package__',\n",
       " '__spec__',\n",
       " '_copy_dispatch',\n",
       " '_copy_immutable',\n",
       " '_deepcopy_atomic',\n",
       " '_deepcopy_dict',\n",
       " '_deepcopy_dispatch',\n",
       " '_deepcopy_list',\n",
       " '_deepcopy_method',\n",
       " '_deepcopy_tuple',\n",
       " '_keep_alive',\n",
       " '_reconstruct',\n",
       " 'copy',\n",
       " 'deepcopy',\n",
       " 'dispatch_table',\n",
       " 'error']"
      ]
     },
     "execution_count": 8,
     "metadata": {},
     "output_type": "execute_result"
    }
   ],
   "source": [
    "import copy\n",
    "\n",
    "dir(copy)"
   ]
  },
  {
   "cell_type": "code",
   "execution_count": 9,
   "metadata": {},
   "outputs": [
    {
     "name": "stdout",
     "output_type": "stream",
     "text": [
      "134556722046144 soft_copy_list = [11, 111, 3333]\n"
     ]
    }
   ],
   "source": [
    "# shallow copy\n",
    "soft_copy_list = copy.copy(par_list)\n",
    "print(f\"{id(soft_copy_list)} {soft_copy_list = }\")"
   ]
  },
  {
   "cell_type": "code",
   "execution_count": 10,
   "metadata": {},
   "outputs": [
    {
     "name": "stdout",
     "output_type": "stream",
     "text": [
      "134556721888896 soft_copy_list = [11, 111, 3333]\n"
     ]
    }
   ],
   "source": [
    "# shallow copy\n",
    "soft_copy_list = copy.copy(par_list)\n",
    "print(f\"{id(soft_copy_list)} {soft_copy_list = }\")"
   ]
  },
  {
   "cell_type": "code",
   "execution_count": 11,
   "metadata": {},
   "outputs": [
    {
     "name": "stdout",
     "output_type": "stream",
     "text": [
      "hard_copy_list[2] 3333\n",
      "\n",
      "134556721709760 par_list       = [11, 111, 'FOUR']\n",
      "134556721709760 hard_copy_list = [11, 111, 'FOUR']\n",
      "134556721888896 soft_copy_list = [11, 111, 3333]\n"
     ]
    }
   ],
   "source": [
    "print(\"hard_copy_list[2]\", hard_copy_list[2])\n",
    "\n",
    "hard_copy_list[2] = \"FOUR\"\n",
    "\n",
    "print()\n",
    "print(f\"{id(par_list)} {par_list       = }\")\n",
    "print(f\"{id(hard_copy_list)} {hard_copy_list = }\")\n",
    "print(f\"{id(soft_copy_list)} {soft_copy_list = }\")"
   ]
  },
  {
   "cell_type": "code",
   "execution_count": 12,
   "metadata": {},
   "outputs": [
    {
     "name": "stdout",
     "output_type": "stream",
     "text": [
      "soft_copy_list[1] 111\n",
      "\n",
      "134556721709760 par_list       = [11, 111, 'FOUR']\n",
      "134556721709760 hard_copy_list = [11, 111, 'FOUR']\n",
      "134556721888896 soft_copy_list = [11, 'Hello', 3333]\n"
     ]
    }
   ],
   "source": [
    "print(\"soft_copy_list[1]\", soft_copy_list[1])\n",
    "\n",
    "soft_copy_list[1] = \"Hello\"\n",
    "\n",
    "print()\n",
    "print(f\"{id(par_list)} {par_list       = }\")\n",
    "print(f\"{id(hard_copy_list)} {hard_copy_list = }\")\n",
    "print(f\"{id(soft_copy_list)} {soft_copy_list = }\")"
   ]
  },
  {
   "cell_type": "markdown",
   "metadata": {},
   "source": [
    "## Need for deepcopy"
   ]
  },
  {
   "cell_type": "code",
   "execution_count": 13,
   "metadata": {},
   "outputs": [
    {
     "name": "stdout",
     "output_type": "stream",
     "text": [
      "134556735115520 new_list           = [90, 89, [78, 89, [4, 441, 6]]]\n",
      "134556735122560 new_softcopy_list  = [90, 89, [78, 89, [4, 441, 6]]]\n",
      "134556722041216 new_deepcopy_list  = [90, 89, [78, 89, [4, 441, 6]]]\n"
     ]
    }
   ],
   "source": [
    "new_list = [90, 89, [78, 89, [4, 441, 6]]]\n",
    "\n",
    "new_softcopy_list = copy.copy(new_list)  # soft copy or shallow copy\n",
    "new_deepcopy_list = copy.deepcopy(new_list)\n",
    "\n",
    "print(f\"{id(new_list)} {new_list           = }\")\n",
    "print(f\"{id(new_softcopy_list)} {new_softcopy_list  = }\")\n",
    "print(f\"{id(new_deepcopy_list)} {new_deepcopy_list  = }\")"
   ]
  },
  {
   "cell_type": "code",
   "execution_count": 14,
   "metadata": {},
   "outputs": [
    {
     "name": "stdout",
     "output_type": "stream",
     "text": [
      "new_list[2][2][1] 441\n",
      "\n",
      "134556735115520 new_list           = [90, 89, [78, 89, [4, 'FFO', 6]]]\n",
      "134556735122560 new_softcopy_list  = [90, 89, [78, 89, [4, 'FFO', 6]]]\n",
      "134556722041216 new_deepcopy_list  = [90, 89, [78, 89, [4, 441, 6]]]\n"
     ]
    }
   ],
   "source": [
    "print(\"new_list[2][2][1]\", new_list[2][2][1])\n",
    "\n",
    "new_list[2][2][1] = \"FFO\"\n",
    "print()\n",
    "print(f\"{id(new_list)} {new_list           = }\")\n",
    "print(f\"{id(new_softcopy_list)} {new_softcopy_list  = }\")\n",
    "print(f\"{id(new_deepcopy_list)} {new_deepcopy_list  = }\")"
   ]
  },
  {
   "cell_type": "markdown",
   "metadata": {},
   "source": [
    "Key Concepts\n",
    "Shallow Copy (copy.copy())\n",
    "Only copies the outer structure of the object.\n",
    "Nested objects are still references to the original objects.\n",
    "Deep Copy (copy.deepcopy())\n",
    "Creates a completely independent copy of the object, including all nested objects.\n",
    "Changes to the original object do not affect the deep copy."
   ]
  },
  {
   "cell_type": "markdown",
   "metadata": {},
   "source": [
    "# NOTE:\n",
    "# 1. soft(shallow) copy is fast, but cant work more than one dimension\n",
    "# 2. deep copy is slow, but can work with objects of any number of dimensions"
   ]
  },
  {
   "cell_type": "code",
   "execution_count": 15,
   "metadata": {},
   "outputs": [
    {
     "name": "stdout",
     "output_type": "stream",
     "text": [
      "134556721867456 134556735122624 False\n"
     ]
    }
   ],
   "source": [
    "l1 = [12, 34]\n",
    "\n",
    "l2 = l1[::]  # soft(shallow) copy\n",
    "\n",
    "print(id(l1), id(l2), l1 is l2)"
   ]
  },
  {
   "cell_type": "code",
   "execution_count": 16,
   "metadata": {},
   "outputs": [
    {
     "name": "stdout",
     "output_type": "stream",
     "text": [
      "134556721617792 134556735117952 False\n"
     ]
    }
   ],
   "source": [
    "l3 = [12, 34, [44, [55]]]\n",
    "\n",
    "l4 = l3[::1]\n",
    "print(id(l3), id(l4), l3 is l4)"
   ]
  },
  {
   "cell_type": "code",
   "execution_count": 17,
   "metadata": {},
   "outputs": [
    {
     "name": "stdout",
     "output_type": "stream",
     "text": [
      "l3 =[12, 34, [44, ['five']]]\n",
      "l4 =[12, 34, [44, ['five']]]\n"
     ]
    }
   ],
   "source": [
    "l3[2][1][0] = 'five'\n",
    "\n",
    "print(f'{l3 =}')\n",
    "print(f'{l4 =}')"
   ]
  }
 ],
 "metadata": {
  "kernelspec": {
   "display_name": "Python 3",
   "language": "python",
   "name": "python3"
  },
  "language_info": {
   "codemirror_mode": {
    "name": "ipython",
    "version": 3
   },
   "file_extension": ".py",
   "mimetype": "text/x-python",
   "name": "python",
   "nbconvert_exporter": "python",
   "pygments_lexer": "ipython3",
   "version": "3.12.1"
  }
 },
 "nbformat": 4,
 "nbformat_minor": 2
}
