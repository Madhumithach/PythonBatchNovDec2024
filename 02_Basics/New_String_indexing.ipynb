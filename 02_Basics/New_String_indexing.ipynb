{
 "cells": [
  {
   "cell_type": "markdown",
   "metadata": {},
   "source": [
    "String Access"
   ]
  },
  {
   "cell_type": "code",
   "execution_count": 2,
   "metadata": {},
   "outputs": [
    {
     "name": "stdout",
     "output_type": "stream",
     "text": [
      "P\n",
      "P\n"
     ]
    }
   ],
   "source": [
    "str=\"Python Programming\"\n",
    "print(str[0])\n",
    "print(str[-0])"
   ]
  },
  {
   "cell_type": "markdown",
   "metadata": {},
   "source": [
    "String Slicing "
   ]
  },
  {
   "cell_type": "code",
   "execution_count": 3,
   "metadata": {},
   "outputs": [
    {
     "name": "stdout",
     "output_type": "stream",
     "text": [
      "Python Programming\n",
      "ogramming\n",
      "\n"
     ]
    }
   ],
   "source": [
    "str=\"Python Programming\"\n",
    "print(str[0:18])\n",
    "print(str[9:99])\n",
    "print(str[100:5709])"
   ]
  },
  {
   "cell_type": "code",
   "execution_count": 4,
   "metadata": {},
   "outputs": [
    {
     "name": "stdout",
     "output_type": "stream",
     "text": [
      "i\n",
      "i\n"
     ]
    }
   ],
   "source": [
    "print(str[-3])\n",
    "print(str[len(str)-3]) #internally it performs this operation for negative indexing"
   ]
  },
  {
   "cell_type": "code",
   "execution_count": 5,
   "metadata": {},
   "outputs": [
    {
     "name": "stdout",
     "output_type": "stream",
     "text": [
      "Python Programming\n",
      "Python Programming\n",
      "Python Programming\n",
      "gnimmargorP nohtyP\n",
      "Python Programmin\n"
     ]
    }
   ],
   "source": [
    "print(str[::])\n",
    "print(str[:])\n",
    "print(str)\n",
    "#By default it takes starting index=0, final_index=str length, step=1\n",
    "print(str[::-1])\n",
    "#for negative step the starting index=str length, final_index=-1, step=-1\n",
    "print(str[:-1])"
   ]
  }
 ],
 "metadata": {
  "kernelspec": {
   "display_name": "Python 3",
   "language": "python",
   "name": "python3"
  },
  "language_info": {
   "codemirror_mode": {
    "name": "ipython",
    "version": 3
   },
   "file_extension": ".py",
   "mimetype": "text/x-python",
   "name": "python",
   "nbconvert_exporter": "python",
   "pygments_lexer": "ipython3",
   "version": "3.12.1"
  }
 },
 "nbformat": 4,
 "nbformat_minor": 2
}
