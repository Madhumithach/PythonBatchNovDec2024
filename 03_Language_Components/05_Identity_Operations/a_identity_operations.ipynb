{
 "cells": [
  {
   "cell_type": "markdown",
   "metadata": {},
   "source": [
    "## Identity Operations"
   ]
  },
  {
   "cell_type": "code",
   "execution_count": null,
   "metadata": {},
   "outputs": [],
   "source": [
    "Object\n",
    "    - value(s)\n",
    "    - type(s)\n",
    "    - address location where it is stored - id()\n",
    "\n",
    "\n",
    "=  Assignment operator\n",
    "\n",
    "== Value-level Equivalence  -  ( value and type) check\n",
    "is object-level Equivalence - (address location, value and type) check\n"
   ]
  },
  {
   "cell_type": "code",
   "execution_count": 2,
   "metadata": {},
   "outputs": [],
   "source": [
    "num1 = 100\n",
    "num2 = 200"
   ]
  },
  {
   "cell_type": "code",
   "execution_count": 3,
   "metadata": {},
   "outputs": [
    {
     "name": "stdout",
     "output_type": "stream",
     "text": [
      "num1 == num2 = False\n",
      "num1 is num2 = False\n",
      "id(num1) = 101721221977096 \t id(num2) =101721221980296\n"
     ]
    }
   ],
   "source": [
    "print(f\"{num1 == num2 = }\")\n",
    "print(f\"{num1 is num2 = }\")\n",
    "print(f\"{id(num1) = } \\t {id(num2) =}\")"
   ]
  },
  {
   "cell_type": "code",
   "execution_count": 4,
   "metadata": {},
   "outputs": [
    {
     "name": "stdout",
     "output_type": "stream",
     "text": [
      "num1 = 100\n",
      "num2 = 200\n",
      "num1 == num2 = False\n",
      "num1 is num2 = False\n",
      "id(num1) = 101721221977096 \t id(num2) =101721221980296\n"
     ]
    }
   ],
   "source": [
    "print(f\"{num1 = }\")\n",
    "print(f\"{num2 = }\")\n",
    "print(f\"{num1 == num2 = }\")\n",
    "print(f\"{num1 is num2 = }\")\n",
    "print(f\"{id(num1) = } \\t {id(num2) =}\")"
   ]
  },
  {
   "cell_type": "code",
   "execution_count": null,
   "metadata": {},
   "outputs": [],
   "source": [
    "num3=300\n",
    "num4=300\n",
    "print(f\"{num3 =} \\t {num4 =}\")\n",
    "print(f\"{num3 == num4 = }\")\n",
    "print(f\"{num3 is num4 = }\")\n",
    "print(f\"{id(num3) = } \\t {id(num4) =}\")"
   ]
  },
  {
   "cell_type": "code",
   "execution_count": 5,
   "metadata": {},
   "outputs": [
    {
     "name": "stdout",
     "output_type": "stream",
     "text": [
      "num3 =300.33 \t num4 =300.33\n",
      "num3 == num4 = True\n",
      "num3 is num4 = False\n",
      "id(num3) = 132022269728656 \t id(num4) =132022269738800\n"
     ]
    }
   ],
   "source": [
    "num3 = 300.33\n",
    "num4 = 300.33\n",
    "print(f\"{num3 =} \\t {num4 =}\")\n",
    "print(f\"{num3 == num4 = }\")\n",
    "print(f\"{num3 is num4 = }\")\n",
    "print(f\"{id(num3) = } \\t {id(num4) =}\")"
   ]
  },
  {
   "cell_type": "code",
   "execution_count": 6,
   "metadata": {},
   "outputs": [
    {
     "name": "stdout",
     "output_type": "stream",
     "text": [
      "num3 =12.33 \t num4 =12.33\n",
      "num3 == num4 = True\n",
      "num3 is num4 = False\n",
      "id(num3) = 132022269738032 \t id(num4) =132021849594064\n"
     ]
    }
   ],
   "source": [
    "num3 = 12.33\n",
    "num4 = 12.33\n",
    "print(f\"{num3 =} \\t {num4 =}\")\n",
    "print(f\"{num3 == num4 = }\")\n",
    "print(f\"{num3 is num4 = }\")\n",
    "print(f\"{id(num3) = } \\t {id(num4) =}\")"
   ]
  },
  {
   "cell_type": "code",
   "execution_count": 7,
   "metadata": {},
   "outputs": [
    {
     "name": "stdout",
     "output_type": "stream",
     "text": [
      "num3 ='Udhay' \t num4 ='Udhay'\n",
      "num3 == num4 = True\n",
      "num3 is num4 = True\n",
      "id(num3) = 132021840135008 \t id(num4) =132021840135008\n"
     ]
    }
   ],
   "source": [
    "num3 = \"Udhay\"\n",
    "num4 = \"Udhay\"\n",
    "print(f\"{num3 =} \\t {num4 =}\")\n",
    "print(f\"{num3 == num4 = }\")\n",
    "print(f\"{num3 is num4 = }\")\n",
    "print(f\"{id(num3) = } \\t {id(num4) =}\")"
   ]
  },
  {
   "cell_type": "code",
   "execution_count": null,
   "metadata": {},
   "outputs": [],
   "source": [
    "num3 = [1, 2, 3] # mutable\n",
    "num4 = [1, 2, 3]\n",
    "print(f\"{num3 =} \\t {num4 =}\")\n",
    "print(f\"{num3 == num4 = }\")\n",
    "print(f\"{num3 is num4 = }\")\n",
    "print(f\"{id(num3) = } \\t {id(num4) =}\")"
   ]
  },
  {
   "cell_type": "code",
   "execution_count": null,
   "metadata": {},
   "outputs": [],
   "source": [
    "num3 = (1, 2, 3)  # immutable\n",
    "num4 = (1, 2, 3)\n",
    "print(f\"{num3 =} \\t {num4 =}\")\n",
    "print(f\"{num3 == num4 = }\")\n",
    "print(f\"{num3 is num4 = }\")\n",
    "print(f\"{id(num3) = } \\t {id(num4) =}\")"
   ]
  },
  {
   "cell_type": "markdown",
   "metadata": {},
   "source": [
    "## Dual Memory management Strategy"
   ]
  },
  {
   "cell_type": "markdown",
   "metadata": {},
   "source": [
    "In Interactive mode,\n",
    "    For integer,\n",
    "        -5 to 256      -> no new object created\n",
    "        outside bounds -> new object is created for each variable\n",
    "Python preallocates small integers in a range of -5 to 256.\n",
    "This allocation happens during initialization and since we cannot update integers (immutability) these preallocated integers are singletons and are directly referenced instead of reallocating.\n",
    "This means every time we use/creates a small integer, python instead of reallocating just returns the reference of preallocated one."
   ]
  },
  {
   "cell_type": "code",
   "execution_count": null,
   "metadata": {},
   "outputs": [],
   "source": [
    "num1 = 255\n",
    "num2 = 255"
   ]
  },
  {
   "cell_type": "code",
   "execution_count": 9,
   "metadata": {},
   "outputs": [
    {
     "data": {
      "text/plain": [
       "False"
      ]
     },
     "execution_count": 9,
     "metadata": {},
     "output_type": "execute_result"
    }
   ],
   "source": [
    "num1 is num2"
   ]
  },
  {
   "cell_type": "code",
   "execution_count": 10,
   "metadata": {},
   "outputs": [
    {
     "data": {
      "text/plain": [
       "(101721221977096, 101721221980296)"
      ]
     },
     "execution_count": 10,
     "metadata": {},
     "output_type": "execute_result"
    }
   ],
   "source": [
    "id(num1), id(num2)"
   ]
  },
  {
   "cell_type": "code",
   "execution_count": 11,
   "metadata": {},
   "outputs": [],
   "source": [
    "num1 = 256\n",
    "num2 = 256"
   ]
  },
  {
   "cell_type": "code",
   "execution_count": 12,
   "metadata": {},
   "outputs": [
    {
     "data": {
      "text/plain": [
       "True"
      ]
     },
     "execution_count": 12,
     "metadata": {},
     "output_type": "execute_result"
    }
   ],
   "source": [
    "num1 is num2"
   ]
  },
  {
   "cell_type": "code",
   "execution_count": 13,
   "metadata": {},
   "outputs": [
    {
     "data": {
      "text/plain": [
       "(101721221982088, 101721221982088)"
      ]
     },
     "execution_count": 13,
     "metadata": {},
     "output_type": "execute_result"
    }
   ],
   "source": [
    "id(num1), id(num2)"
   ]
  },
  {
   "cell_type": "code",
   "execution_count": 2,
   "metadata": {},
   "outputs": [],
   "source": [
    "num1 = 257\n",
    "num2 = 257"
   ]
  },
  {
   "cell_type": "code",
   "execution_count": 3,
   "metadata": {},
   "outputs": [
    {
     "data": {
      "text/plain": [
       "False"
      ]
     },
     "execution_count": 3,
     "metadata": {},
     "output_type": "execute_result"
    }
   ],
   "source": [
    "num1 is num2  "
   ]
  },
  {
   "cell_type": "code",
   "execution_count": 4,
   "metadata": {},
   "outputs": [
    {
     "data": {
      "text/plain": [
       "(137465422621936, 137465422616368)"
      ]
     },
     "execution_count": 4,
     "metadata": {},
     "output_type": "execute_result"
    }
   ],
   "source": [
    "id(num1), id(num2)"
   ]
  },
  {
   "cell_type": "code",
   "execution_count": 5,
   "metadata": {},
   "outputs": [
    {
     "name": "stdout",
     "output_type": "stream",
     "text": [
      "True\n",
      "98407765903080 98407765903080\n"
     ]
    }
   ],
   "source": [
    "num1 = -5\n",
    "num2 = -5\n",
    "\n",
    "print(num1 is num2)\n",
    "print(id(num1), id(num2))"
   ]
  },
  {
   "cell_type": "code",
   "execution_count": 6,
   "metadata": {},
   "outputs": [
    {
     "name": "stdout",
     "output_type": "stream",
     "text": [
      "False\n",
      "137465420790064 137465420790416\n"
     ]
    }
   ],
   "source": [
    "num1 = -6\n",
    "num2 = -6\n",
    "\n",
    "print(num1 is num2)\n",
    "print(id(num1), id(num2))"
   ]
  }
 ],
 "metadata": {
  "kernelspec": {
   "display_name": "Python 3",
   "language": "python",
   "name": "python3"
  },
  "language_info": {
   "codemirror_mode": {
    "name": "ipython",
    "version": 3
   },
   "file_extension": ".py",
   "mimetype": "text/x-python",
   "name": "python",
   "nbconvert_exporter": "python",
   "pygments_lexer": "ipython3",
   "version": "3.12.1"
  }
 },
 "nbformat": 4,
 "nbformat_minor": 2
}
